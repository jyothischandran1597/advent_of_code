{
 "cells": [
  {
   "cell_type": "code",
   "execution_count": 1,
   "metadata": {},
   "outputs": [],
   "source": [
    "import numpy as np"
   ]
  },
  {
   "cell_type": "markdown",
   "metadata": {},
   "source": [
    "## Day 1"
   ]
  },
  {
   "cell_type": "code",
   "execution_count": 68,
   "metadata": {},
   "outputs": [
    {
     "name": "stdout",
     "output_type": "stream",
     "text": [
      "The number of times the deapth increased in successive scans:  1342\n",
      "The number of times the sum of measurements in the sliding window of length 3 increases:  1378\n"
     ]
    }
   ],
   "source": [
    "def DayOne_1(depth_readings):\n",
    "    return np.sum([depth_readings[i] < depth_readings[i+1] for i in range(len(depth_readings)-1)])\n",
    "\n",
    "depth=np.loadtxt(\"DayOne_input_1.txt\",dtype='int')\n",
    "smoothed_depth=[depth[i]+depth[i+1]+depth[i+2] for i in range(len(depth)-2)]\n",
    "\n",
    "print(\"The number of times the deapth increased in successive scans: \",DayOne_1(depth))\n",
    "print(\"The number of times the sum of measurements in the sliding window of length 3 increases: \",DayOne_1(smoothed_depth))"
   ]
  },
  {
   "cell_type": "markdown",
   "metadata": {},
   "source": [
    "## Day 2"
   ]
  },
  {
   "cell_type": "code",
   "execution_count": 3,
   "metadata": {
    "collapsed": true,
    "jupyter": {
     "outputs_hidden": true
    },
    "tags": []
   },
   "outputs": [
    {
     "name": "stdout",
     "output_type": "stream",
     "text": [
      "Product of final horizontal position with final depth:  2102357\n",
      "Product of final horizontal position with final depth with updated correct directions:  2101031224\n"
     ]
    }
   ],
   "source": [
    "horizontal_start,vertical_start=[0,0]\n",
    "aim=0\n",
    "\n",
    "def DayTwo_1(steps,starting_point):\n",
    "    horiz=starting_point[0]\n",
    "    vert=starting_point[1]\n",
    "    for i in range(len(steps)):\n",
    "        direction=steps[i][0][0]\n",
    "        value=int(steps[i][-1])\n",
    "        if direction=='f':\n",
    "            horiz+=value\n",
    "        elif direction=='u':\n",
    "            vert-=value\n",
    "        else:\n",
    "            vert+=value\n",
    "    return horiz*vert\n",
    "\n",
    "def DayTwo_2(steps,starting_point,aim):\n",
    "    horiz=starting_point[0]\n",
    "    vert=starting_point[1]\n",
    "    for i in range(len(steps)):\n",
    "        direction=steps[i][0][0]\n",
    "        value=int(steps[i][-1])\n",
    "        if direction=='f':\n",
    "            horiz+=value\n",
    "            vert+=aim*value\n",
    "        elif direction=='u':\n",
    "            aim-=value\n",
    "        else:\n",
    "            aim+=value\n",
    "    return horiz*vert\n",
    "\n",
    "\n",
    "steps=np.loadtxt(\"DayTwo_input.txt\",dtype='str')    \n",
    "print(\"Product of final horizontal position with final depth: \", DayTwo_1(steps,[horizontal_start,vertical_start]))\n",
    "print(\"Product of final horizontal position with final depth with updated correct directions: \", DayTwo_2(steps,[horizontal_start,vertical_start],aim))"
   ]
  },
  {
   "cell_type": "code",
   "execution_count": 60,
   "metadata": {},
   "outputs": [
    {
     "name": "stdout",
     "output_type": "stream",
     "text": [
      "Product of final horizontal position with final depth:  2102357\n",
      "Product of final horizontal position with final depth with updated correct directions:  2101031224\n"
     ]
    }
   ],
   "source": [
    "horizontal_start,vertical_start=[0,0]\n",
    "aim=0\n",
    "\n",
    "def DayTwo_1(steps,starting_point):\n",
    "    horiz=starting_point[0]\n",
    "    vert=starting_point[1]\n",
    "    for i in range(len(steps)):\n",
    "        step=str(steps[i])\n",
    "        value=int(float(step[-1]))\n",
    "        if step.startswith(\"f\"):\n",
    "            horiz+=value\n",
    "        elif step.startswith(\"u\"):\n",
    "            vert-=value\n",
    "        else:\n",
    "            vert+=value\n",
    "    return horiz*vert\n",
    "\n",
    "def DayTwo_2(steps,starting_point,aim):\n",
    "    horiz=starting_point[0]\n",
    "    vert=starting_point[1]\n",
    "    for i in range(len(steps)):\n",
    "        step=str(steps[i])\n",
    "        value=int(step[-1])\n",
    "        if step.startswith(\"f\"):\n",
    "            horiz+=value\n",
    "            vert+=aim*value\n",
    "        elif step.startswith(\"u\"):\n",
    "            aim-=value\n",
    "        else:\n",
    "            aim+=value\n",
    "    return horiz*vert\n",
    "\n",
    "\n",
    "steps=np.loadtxt(\"DayTwo_input.txt\",dtype='str',delimiter=\"  \")    \n",
    "print(\"Product of final horizontal position with final depth: \", DayTwo_1(steps,[horizontal_start,vertical_start]))\n",
    "print(\"Product of final horizontal position with final depth with updated correct directions: \", DayTwo_2(steps,[horizontal_start,vertical_start],aim))"
   ]
  },
  {
   "cell_type": "markdown",
   "metadata": {},
   "source": [
    "## Day 3"
   ]
  },
  {
   "cell_type": "code",
   "execution_count": 24,
   "metadata": {},
   "outputs": [
    {
     "name": "stdout",
     "output_type": "stream",
     "text": [
      "Power consumption of the submarine (gamma rate * epsilon rate)=  2583164\n"
     ]
    }
   ],
   "source": [
    "def power_consumption(readings):\n",
    "    cutoff=readings.shape[1]/2\n",
    "    summed_readings=np.sum(readings,axis=1)\n",
    "\n",
    "    gamma_rate_bin=\"\".join([str((x>cutoff)*1) for x in summed_readings])\n",
    "    gamma_rate=int(gamma_rate_bin,2)\n",
    "    epsilon_rate=int(\"\".join([\"1\" if x==\"0\" else \"0\" for x in gamma_rate_bin]),2)\n",
    "    return gamma_rate*epsilon_rate\n",
    "\n",
    "readings=np.genfromtxt(\"DayThree_input.txt\",dtype='int',delimiter=1,unpack=True)\n",
    "print(\"Power consumption of the submarine (gamma rate * epsilon rate)= \",power_consumption(readings))"
   ]
  },
  {
   "cell_type": "code",
   "execution_count": 126,
   "metadata": {},
   "outputs": [
    {
     "name": "stdout",
     "output_type": "stream",
     "text": [
      "Life_support_rating of the submarine (O2 generator rating * CO2 scrubbing rate)=  2784375\n"
     ]
    }
   ],
   "source": [
    "def common_bit(readings,length,mode=\"most\",if_equally_common=0):\n",
    "    cutoff=length/2\n",
    "    summed_readings=np.sum(readings)\n",
    "    \n",
    "    if if_equally_common==0 and mode==\"most\":\n",
    "        bit=(not summed_readings<=cutoff)*1\n",
    "    elif if_equally_common==0 and mode==\"least\":\n",
    "        bit=(not summed_readings>=cutoff)*1\n",
    "    elif if_equally_common==1 and mode==\"most\":\n",
    "        bit=(summed_readings>=cutoff)*1\n",
    "    else:\n",
    "        bit=(summed_readings<=cutoff)*1\n",
    "    return bit\n",
    "\n",
    "def life_support_rating(readings):\n",
    "    \n",
    "    x,y=readings.shape\n",
    "    idx_O2=np.arange(y)\n",
    "    idx_CO2=np.arange(y)\n",
    "    run_O2=True; run_CO2=True\n",
    "    \n",
    "    for i in range(x):\n",
    "        m=common_bit(readings[i,idx_O2], len(idx_O2), mode=\"most\", if_equally_common=1)\n",
    "        l=common_bit(readings[i,idx_CO2], len(idx_CO2), mode=\"least\", if_equally_common=0)\n",
    "        idx_O2_temp=[];idx_CO2_temp=[];\n",
    "        for j in range(y):\n",
    "            if run_O2 and j in idx_O2 and readings[i,j]==m:\n",
    "                idx_O2_temp.append(j)\n",
    "            if run_CO2 and j in idx_CO2 and readings[i,j]==l:\n",
    "                idx_CO2_temp.append(j)\n",
    "        idx_O2=idx_O2_temp;\n",
    "        idx_CO2=idx_CO2_temp;\n",
    "        if len(idx_O2)==1:\n",
    "            O2=readings[:,idx_O2[0]] @ 2**np.arange(x)[::-1]\n",
    "            run_O2=False;idx_O2=[]\n",
    "        if len(idx_CO2)==1:\n",
    "            CO2=readings[:,idx_CO2[0]] @ 2**np.arange(x)[::-1]\n",
    "            run_CO2=False;idx_CO2=[]\n",
    "        if len(idx_CO2)==1 and len(idx_O2)==1:\n",
    "            break\n",
    "        \n",
    "    if len(idx_CO2)>1 or len(idx_CO2)>1:\n",
    "        print(\"There are duplicate entries present in the readings. Modify algorithm to deal with the same!!!\")\n",
    "    return O2*CO2\n",
    "\n",
    "readings=np.genfromtxt(\"DayThree_input.txt\",dtype='int',delimiter=1,unpack=True)\n",
    "print(\"Life_support_rating of the submarine (O2 generator rating * CO2 scrubbing rate)= \",life_support_rating(readings))"
   ]
  },
  {
   "cell_type": "markdown",
   "metadata": {},
   "source": [
    "# Day 4"
   ]
  },
  {
   "cell_type": "code",
   "execution_count": 439,
   "metadata": {},
   "outputs": [],
   "source": [
    "from itertools import groupby"
   ]
  },
  {
   "cell_type": "code",
   "execution_count": 547,
   "metadata": {
    "tags": []
   },
   "outputs": [
    {
     "name": "stdout",
     "output_type": "stream",
     "text": [
      "The board_3 (index 2) has the best chance of winning with score 7370.\n",
      "The board_10 (index 9) has the last chance of winning with score 23670.\n"
     ]
    }
   ],
   "source": [
    "def check_win(board,mask,board_size):\n",
    "    sum_1=board.sum(axis=0)\n",
    "    sum_2=board.sum(axis=1)\n",
    "    sum_mask=mask*board_size\n",
    "    return (sum_1==sum_mask).any() or (sum_2==sum_mask).any()\n",
    "    \n",
    "def bingo_turn(boards,turn_value,mask,winning_board_nos,boards_won):\n",
    "    win=False\n",
    "    board_size=boards.shape[-1]\n",
    "    turn_wins=[]\n",
    "    for board_num,board in enumerate(boards):\n",
    "        if board_num not in winning_board_nos:\n",
    "            for index,value in np.ndenumerate(board):\n",
    "                if value==turn_value:\n",
    "                    value_=float(mask)\n",
    "                    board[index]=value_\n",
    "            win=check_win(board,mask,board_size)\n",
    "            if win==True:\n",
    "                boards_won+=1\n",
    "                turn_wins.append(board_num)\n",
    "                bingo_result=win\n",
    "    return win, turn_wins\n",
    "        \n",
    "def best_board(boards,num_called,mask):\n",
    "    \n",
    "    boards_won=0\n",
    "    winning_board_nos=[]\n",
    "    winning_turn_values=[]\n",
    "    for turn_value in num_called:\n",
    "        if boards_won==boards.shape[0]:\n",
    "            break\n",
    "        bingo_result=bingo_turn(boards,turn_value,mask,winning_board_nos,boards_won) \n",
    "        if bingo_result[0]==True:\n",
    "            winning_board_nos.extend(bingo_result[1])\n",
    "            winning_turn_values.append(turn_value)  \n",
    "    first_win_value=winning_turn_values[0]\n",
    "    best_board_num=winning_board_nos[0]#............I am effectively ignoring the fact that there can be multiple victor bords in each turns in this step\n",
    "    best_board=boards[best_board_num,:,:]\n",
    "    best_score= int(np.sum(best_board))*first_win_value\n",
    "    \n",
    "    last_win_value=winning_turn_values[-1]\n",
    "    last_board_num=winning_board_nos[-1]#............I am effectively ignoring the fact that there can be multiple victor bords in each turns in this step\n",
    "    last_board=boards[last_board_num,:,:]\n",
    "    last_score=int(np.sum(last_board))*last_win_value\n",
    "    \n",
    "    return best_score,best_board_num,last_score,last_board_num\n",
    "\n",
    "# Read in the call values and the bingo boards from input file.\n",
    "\n",
    "num_called=np.genfromtxt(\"DayFour_input.txt\",dtype='int',delimiter=',',unpack=True,max_rows=1)\n",
    "array_list = []\n",
    "with open('DayFour_input.txt') as f_data:  \n",
    "    next(f_data)\n",
    "    for k, g in groupby(f_data, lambda x: x.startswith('\\n')):\n",
    "        if not k:\n",
    "            array_list.append(np.array([[float(x) for x in d.split()] for d in g if len(d.strip())]))#......len(d.strip()) for line '\\n' is 0 -> False\n",
    "boards=np.array(array_list).astype('float')\n",
    "\n",
    "# Execute the bingo game and get the best/worst board and its score.\n",
    "\n",
    "mask=0.01\n",
    "\n",
    "best_score,best_board_num,last_score,last_board_num=best_board(boards,num_called,mask)\n",
    "print(\"The board_{} (index {}) has the best chance of winning with score {}.\".format(best_board_num+1,best_board_num,best_score))\n",
    "print(\"The board_{} (index {}) has the last chance of winning with score {}.\".format(last_board_num+1,last_board_num,last_score))"
   ]
  },
  {
   "cell_type": "markdown",
   "metadata": {},
   "source": [
    "### Use zip() to merge to gether the value called and winning board numbers. This is to be able to output them both."
   ]
  },
  {
   "cell_type": "code",
   "execution_count": 547,
   "metadata": {
    "tags": []
   },
   "outputs": [
    {
     "name": "stdout",
     "output_type": "stream",
     "text": [
      "The board_3 (index 2) has the best chance of winning with score 7370.\n",
      "The board_10 (index 9) has the last chance of winning with score 23670.\n"
     ]
    }
   ],
   "source": [
    "def check_win(board,mask,board_size):\n",
    "    sum_1=board.sum(axis=0)\n",
    "    sum_2=board.sum(axis=1)\n",
    "    sum_mask=mask*board_size\n",
    "    return (sum_1==sum_mask).any() or (sum_2==sum_mask).any()\n",
    "    \n",
    "def bingo_turn(boards,turn_value,mask,winning_board_nos,boards_won):\n",
    "    win=False\n",
    "    board_size=boards.shape[-1]\n",
    "    turn_wins=[]\n",
    "    for board_num,board in enumerate(boards):\n",
    "        if board_num not in winning_board_nos:\n",
    "            for index,value in np.ndenumerate(board):\n",
    "                if value==turn_value:\n",
    "                    value_=float(mask)\n",
    "                    board[index]=value_\n",
    "            win=check_win(board,mask,board_size)\n",
    "            if win==True:\n",
    "                boards_won+=1\n",
    "                turn_wins.append(board_num)\n",
    "                bingo_result=win\n",
    "    return win, turn_wins\n",
    "        \n",
    "def best_board(boards,num_called,mask):\n",
    "    \n",
    "    boards_won=0\n",
    "    winning_board_nos=[]\n",
    "    winning_turn_values=[]\n",
    "    for turn_value in num_called:\n",
    "        if boards_won==boards.shape[0]:\n",
    "            break\n",
    "        bingo_result=bingo_turn(boards,turn_value,mask,winning_board_nos,boards_won) \n",
    "        if bingo_result[0]==True:\n",
    "            winning_board_nos.extend(bingo_result[1])\n",
    "            winning_turn_values.append(turn_value)  \n",
    "    first_win_value=winning_turn_values[0]\n",
    "    best_board_num=winning_board_nos[0]#............I am effectively ignoring the fact that there can be multiple victor bords in each turns in this step\n",
    "    best_board=boards[best_board_num,:,:]\n",
    "    best_score= int(np.sum(best_board))*first_win_value\n",
    "    \n",
    "    last_win_value=winning_turn_values[-1]\n",
    "    last_board_num=winning_board_nos[-1]#............I am effectively ignoring the fact that there can be multiple victor bords in each turns in this step\n",
    "    last_board=boards[last_board_num,:,:]\n",
    "    last_score=int(np.sum(last_board))*last_win_value\n",
    "    \n",
    "    return best_score,best_board_num,last_score,last_board_num\n",
    "\n",
    "# Read in the call values and the bingo boards from input file.\n",
    "\n",
    "num_called=np.genfromtxt(\"DayFour_input.txt\",dtype='int',delimiter=',',unpack=True,max_rows=1)\n",
    "array_list = []\n",
    "with open('DayFour_input.txt') as f_data:  \n",
    "    next(f_data)\n",
    "    for k, g in groupby(f_data, lambda x: x.startswith('\\n')):\n",
    "        if not k:\n",
    "            array_list.append(np.array([[float(x) for x in d.split()] for d in g if len(d.strip())]))#......len(d.strip()) for line '\\n' is 0 -> False\n",
    "boards=np.array(array_list).astype('float')\n",
    "\n",
    "# Execute the bingo game and get the best/worst board and its score.\n",
    "\n",
    "mask=0.01\n",
    "\n",
    "best_score,best_board_num,last_score,last_board_num=best_board(boards,num_called,mask)\n",
    "print(\"The board_{} (index {}) has the best chance of winning with score {}.\".format(best_board_num+1,best_board_num,best_score))\n",
    "print(\"The board_{} (index {}) has the last chance of winning with score {}.\".format(last_board_num+1,last_board_num,last_score))"
   ]
  },
  {
   "cell_type": "code",
   "execution_count": null,
   "metadata": {},
   "outputs": [],
   "source": []
  }
 ],
 "metadata": {
  "kernelspec": {
   "display_name": "Python 3",
   "language": "python",
   "name": "python3"
  },
  "language_info": {
   "codemirror_mode": {
    "name": "ipython",
    "version": 3
   },
   "file_extension": ".py",
   "mimetype": "text/x-python",
   "name": "python",
   "nbconvert_exporter": "python",
   "pygments_lexer": "ipython3",
   "version": "3.8.10"
  }
 },
 "nbformat": 4,
 "nbformat_minor": 4
}
