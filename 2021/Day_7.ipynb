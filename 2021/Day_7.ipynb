{
 "cells": [
  {
   "cell_type": "code",
   "execution_count": 1,
   "id": "79479c35",
   "metadata": {},
   "outputs": [],
   "source": [
    "import numpy as np"
   ]
  },
  {
   "cell_type": "markdown",
   "id": "a0eb9a1c",
   "metadata": {},
   "source": [
    "## Part 1"
   ]
  },
  {
   "cell_type": "markdown",
   "id": "2cbe0bfa",
   "metadata": {},
   "source": [
    "The position is centered from our submarine. The most cost effective position will not be outside the positions where the crab submarines are at the beginning. So, that can be taken as the range to explore fuel expenditure."
   ]
  },
  {
   "cell_type": "code",
   "execution_count": 50,
   "id": "8b085aee",
   "metadata": {},
   "outputs": [],
   "source": [
    "def get_fuel_cost(ini_positions,position,cost_per_step=1):\n",
    "    return np.sum(np.abs(ini_positions-position))*cost_per_step\n",
    "\n",
    "def best_horiz_position(ini_position,cost_per_step=1):\n",
    "    for pos in range(np.min(ini_position),np.max(ini_position)+1):\n",
    "        if pos==np.min(ini_position):\n",
    "            least_fuel_cost=get_fuel_cost(ini_position,pos)\n",
    "            align_at_pos=pos\n",
    "        else:\n",
    "            fuel_cost=get_fuel_cost(ini_position,pos)\n",
    "            if fuel_cost<least_fuel_cost:\n",
    "                least_fuel_cost=fuel_cost\n",
    "                align_at_pos=pos\n",
    "    return least_fuel_cost,align_at_pos"
   ]
  },
  {
   "cell_type": "code",
   "execution_count": 55,
   "id": "b18d0da7",
   "metadata": {},
   "outputs": [
    {
     "name": "stdout",
     "output_type": "stream",
     "text": [
      "Least fuel cost is to align at 343 with a cost of 353800\n"
     ]
    }
   ],
   "source": [
    "ini_position=np.loadtxt(\"DaySeven_input.txt\",delimiter=\",\",dtype=int)\n",
    "step_cost=1\n",
    "fuel_spent,best_position=best_horiz_position(ini_position,cost_per_step=step_cost)\n",
    "print(\"Least fuel cost is to align at\",best_position,\"with a cost of\",fuel_spent)\n",
    "\n",
    "#ini_position=np.array([16,1,2,0,4,2,7,1,2,14])"
   ]
  },
  {
   "cell_type": "markdown",
   "id": "cd93515a",
   "metadata": {},
   "source": [
    "## Part 2"
   ]
  },
  {
   "cell_type": "code",
   "execution_count": 56,
   "id": "c75b31f0",
   "metadata": {},
   "outputs": [],
   "source": [
    "def get_fuel_cost_(ini_positions,position):\n",
    "    return int(np.sum(np.abs(ini_positions-position)*(np.abs(ini_positions-position)+1)*0.5))\n",
    "\n",
    "def best_horiz_position_(ini_position):\n",
    "    for pos in range(np.min(ini_position),np.max(ini_position)+1):\n",
    "        if pos==np.min(ini_position):\n",
    "            least_fuel_cost=get_fuel_cost_(ini_position,pos)\n",
    "            align_at_pos=pos\n",
    "        else:\n",
    "            fuel_cost=get_fuel_cost_(ini_position,pos)\n",
    "            if fuel_cost<least_fuel_cost:\n",
    "                least_fuel_cost=fuel_cost\n",
    "                align_at_pos=pos\n",
    "    return least_fuel_cost,align_at_pos"
   ]
  },
  {
   "cell_type": "code",
   "execution_count": 57,
   "id": "058a2d29",
   "metadata": {},
   "outputs": [
    {
     "name": "stdout",
     "output_type": "stream",
     "text": [
      "Least fuel cost is to align at 480 with a cost of 98119739\n"
     ]
    }
   ],
   "source": [
    "fuel_spent,best_position=best_horiz_position_(ini_position)\n",
    "print(\"Least fuel cost is to align at\",best_position,\"with a cost of\",fuel_spent)"
   ]
  },
  {
   "cell_type": "code",
   "execution_count": null,
   "id": "5fcfe41f",
   "metadata": {},
   "outputs": [],
   "source": []
  }
 ],
 "metadata": {
  "kernelspec": {
   "display_name": "Python [conda env:data_science] *",
   "language": "python",
   "name": "conda-env-data_science-py"
  },
  "language_info": {
   "codemirror_mode": {
    "name": "ipython",
    "version": 3
   },
   "file_extension": ".py",
   "mimetype": "text/x-python",
   "name": "python",
   "nbconvert_exporter": "python",
   "pygments_lexer": "ipython3",
   "version": "3.9.7"
  }
 },
 "nbformat": 4,
 "nbformat_minor": 5
}
