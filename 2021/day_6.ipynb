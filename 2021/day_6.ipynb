{
 "cells": [
  {
   "cell_type": "code",
   "execution_count": 6,
   "id": "3ddb4f3b",
   "metadata": {},
   "outputs": [],
   "source": [
    "import numpy as np\n",
    "import collections"
   ]
  },
  {
   "cell_type": "markdown",
   "id": "adbf00e6",
   "metadata": {},
   "source": [
    "## Part 1"
   ]
  },
  {
   "cell_type": "markdown",
   "id": "a029f64b",
   "metadata": {},
   "source": [
    "Either 2 lists: one of mature fish and one for new fish</br>\n",
    "mature=[list of index values corresponding to each mature fish]</br>\n",
    "new=[list of index values(8 or 7) correspondong to new fish]\n",
    "\n",
    "\n",
    "Or 9 lists: each correspondin to that timer value [0,1,2,3,4,5,6][7,8]</br>\n",
    "0=number of fish at conter value 0, will add this no. to both 6 and 8 at next step/day</br>\n",
    "1=number of fish at counter value 1, will add to 0 in next step/day</br>\n",
    ".</br>\n",
    ".</br>\n",
    ".</br>\n",
    "8=number of fish at counter value 8, will add to 0 in next step/day"
   ]
  },
  {
   "cell_type": "code",
   "execution_count": 37,
   "id": "2e534f0d",
   "metadata": {},
   "outputs": [],
   "source": [
    "def counter(data):\n",
    "    state_count=collections.Counter(data)#...not a dictionary, but a counter class object\n",
    "    return state_count\n",
    "\n",
    "def day_passes(counts,maturing_period,gestation_period):\n",
    "    temp_dict={};tot=maturing_period+gestation_period\n",
    "    for i in range(tot):\n",
    "        if i==tot-1:\n",
    "            temp_dict[i]=counts[0]\n",
    "        elif i==gestation_period-1:\n",
    "            temp_dict[i]=counts[i+1]+counts[0]\n",
    "        else:\n",
    "            temp_dict[i]=counts[i+1]\n",
    "    return temp_dict\n",
    "\n",
    "def num_of_fish(initial_state,no_of_days,maturing_period,gestation_period):\n",
    "    fish_counts=counter(initial_state)\n",
    "    for i in range(no_of_days):\n",
    "        fish_counts=day_passes(fish_counts,maturing_period,gestation_period)\n",
    "    return sum(fish_counts.values())"
   ]
  },
  {
   "cell_type": "code",
   "execution_count": 43,
   "id": "78549c0a",
   "metadata": {},
   "outputs": [
    {
     "name": "stdout",
     "output_type": "stream",
     "text": [
      "Number of fish after 80 days: 353079\n"
     ]
    }
   ],
   "source": [
    "#initial_state=collections.Counter(np.array([3,4,3,1,2]))\n",
    "\n",
    "initial_state=np.loadtxt(\"DaySix_input.txt\",delimiter=\",\",dtype=int)\n",
    "no_of_days=80\n",
    "maturing_period=2\n",
    "gestation_period=7\n",
    "\n",
    "final_number=num_of_fish(initial_state,no_of_days,maturing_period,gestation_period)\n",
    "print(\"Number of fish after\",no_of_days, \"days:\",final_number)"
   ]
  },
  {
   "cell_type": "markdown",
   "id": "ed2dd0a6",
   "metadata": {},
   "source": [
    "## Part 2"
   ]
  },
  {
   "cell_type": "code",
   "execution_count": 44,
   "id": "23f2a06a",
   "metadata": {},
   "outputs": [
    {
     "name": "stdout",
     "output_type": "stream",
     "text": [
      "Number of fish after 256 days: 1605400130036\n"
     ]
    }
   ],
   "source": [
    "no_of_days_1=256\n",
    "\n",
    "final_number=num_of_fish(initial_state,no_of_days_1,maturing_period,gestation_period)\n",
    "print(\"Number of fish after\",no_of_days_1, \"days:\",final_number)"
   ]
  },
  {
   "cell_type": "code",
   "execution_count": null,
   "id": "61298dc3",
   "metadata": {},
   "outputs": [],
   "source": []
  }
 ],
 "metadata": {
  "kernelspec": {
   "display_name": "Python [conda env:data_science] *",
   "language": "python",
   "name": "conda-env-data_science-py"
  },
  "language_info": {
   "codemirror_mode": {
    "name": "ipython",
    "version": 3
   },
   "file_extension": ".py",
   "mimetype": "text/x-python",
   "name": "python",
   "nbconvert_exporter": "python",
   "pygments_lexer": "ipython3",
   "version": "3.9.7"
  }
 },
 "nbformat": 4,
 "nbformat_minor": 5
}
