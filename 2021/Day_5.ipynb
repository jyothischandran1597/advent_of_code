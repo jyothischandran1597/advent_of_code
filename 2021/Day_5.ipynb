{
 "cells": [
  {
   "cell_type": "code",
   "execution_count": 3,
   "metadata": {},
   "outputs": [],
   "source": [
    "import numpy as np"
   ]
  },
  {
   "cell_type": "markdown",
   "metadata": {},
   "source": [
    "# Day 5"
   ]
  },
  {
   "cell_type": "markdown",
   "metadata": {},
   "source": [
    "## Part 1"
   ]
  },
  {
   "cell_type": "code",
   "execution_count": 4,
   "metadata": {},
   "outputs": [],
   "source": [
    "def create_grid(data):#,idx_lines=0,idx_spread=1,idx_x_or_y=2):\n",
    "    x_lim=np.max(data[:,:,0])+1#-np.min(data[:,:,0])#..................grid will be from 0 to maximum x value (0 and not minimum as the line values are the position on such a grid)\n",
    "    y_lim=np.max(data[:,:,1])+1#-np.min(data[:,:,1])#..................grid will be from 0 to maximum x value\n",
    "    return np.zeros((x_lim,y_lim))\n",
    "\n",
    "def axial_lines(data):\n",
    "    idx=np.logical_or((data[:,0,0]==data[:,1,0]),(data[:,0,1]==data[:,1,1]))\n",
    "    #data_straight=data[idx,:,:]\n",
    "    data_axial=np.hstack((np.sort(data[idx,:,0]),np.sort(data[idx,:,1])))\n",
    "    return data_axial\n",
    "\n",
    "def axial_vents_grid(data):\n",
    "    threshold=2# count will be >= 2 when vent lines overlap\n",
    "    grid=create_grid(data)\n",
    "    str_lines=axial_lines(data)\n",
    "    for line in str_lines:\n",
    "        grid[line[0]:line[1]+1,line[2]:line[3]+1]+=1\n",
    "    #print(np.transpose(grid_))\n",
    "    vent_overlap=np.count_nonzero(grid >= threshold)\n",
    "    return grid,vent_overlap"
   ]
  },
  {
   "cell_type": "code",
   "execution_count": 5,
   "metadata": {
    "jupyter": {
     "outputs_hidden": true
    },
    "tags": []
   },
   "outputs": [
    {
     "name": "stdout",
     "output_type": "stream",
     "text": [
      "Number of times horizontal and vertical vent lines overlap: 7414\n"
     ]
    }
   ],
   "source": [
    "#d_=[['0,9', '5,9'],['8,0' ,'0,8'],['9,4' , '3,4'],['2,2' , '2,1'],['7,0' , '7,4'],['6,4', '2,0'],['0,9' ,'2,9'],['3,4' , '1,4'],['0,0' , '8,8'],['5,5' , '8,2']]\n",
    "#data_=np.array(func(d_))#........shape->(10,2,2) with format (lines, initial and final, x and y)\n",
    "#print(data_)\n",
    "\n",
    "\n",
    "d=np.genfromtxt(\"DayFive_input.txt\",delimiter='->',dtype='str')\n",
    "func=lambda d: [[[int(y) for y in list(z.split(','))] for z in q] for q in d]\n",
    "data=np.array(func(d))#........shape->(500,2,2) with format (lines, initial and final, x and y)\n",
    "\n",
    "grid,vent_overlap=axial_vents_grid(data)\n",
    "#print(np.transpose(grid))\n",
    "print(\"Number of times horizontal and vertical vent lines overlap:\",vent_overlap)"
   ]
  },
  {
   "cell_type": "markdown",
   "metadata": {},
   "source": [
    "## Part 2"
   ]
  },
  {
   "cell_type": "markdown",
   "metadata": {},
   "source": [
    "DO NOT sort the indices of diagonal lines. The order matters in that case."
   ]
  },
  {
   "cell_type": "code",
   "execution_count": 144,
   "metadata": {},
   "outputs": [],
   "source": [
    "def straight_lines_(data):\n",
    "    axial_bool=np.logical_or((data[:,0,0]==data[:,1,0]),(data[:,0,1]==data[:,1,1]))\n",
    "    daig_bool=(np.abs(data[:,0,0]-data[:,1,0])==np.abs(data[:,0,1]-data[:,1,1]))\n",
    "    #idx_axis=np.any((horiz_bool,vert_bool,daig_bool),axis=0)#data_straight=data[idx,:,:]\n",
    "    data_axis=np.hstack((np.sort(data[axial_bool,:,0]),np.sort(data[axial_bool,:,1]),(np.abs(data[axial_bool,0,0]-data[axial_bool,1,0])==np.abs(data[axial_bool,0,1]-data[axial_bool,1,1])).reshape(axial_bool.sum(),1)))\n",
    "    data_diag=np.hstack((data[daig_bool,:,0],data[daig_bool,:,1],(np.abs(data[daig_bool,0,0]-data[daig_bool,1,0])==np.abs(data[daig_bool,0,1]-data[daig_bool,1,1])).reshape(daig_bool.sum(),1)))\n",
    "    data_straight=np.vstack((data_axis,data_diag))\n",
    "    return data_straight\n",
    "\n",
    "def straight_vents_grid(data):\n",
    "    threshold=2# count will be >= 2 when vent lines overlap\n",
    "    grid=create_grid(data)\n",
    "    str_lines=straight_lines_(data)\n",
    "    for line in str_lines:\n",
    "        if line[-1]==1:# condition for diagonal lines\n",
    "            x=np.linspace(line[0],line[1],np.abs(line[0]-line[1])+1,dtype=int)\n",
    "            y=np.linspace(line[2],line[3],np.abs(line[2]-line[3])+1,dtype=int)\n",
    "            grid[x,y]+=1\n",
    "        else:# axial lines\n",
    "            grid[line[0]:line[1]+1,line[2]:line[3]+1]+=1\n",
    "    #print(np.transpose(grid_))\n",
    "    vent_overlap=np.count_nonzero(grid >= threshold)\n",
    "    return grid,vent_overlap"
   ]
  },
  {
   "cell_type": "code",
   "execution_count": 145,
   "metadata": {
    "jupyter": {
     "outputs_hidden": true
    },
    "scrolled": false,
    "tags": []
   },
   "outputs": [
    {
     "name": "stdout",
     "output_type": "stream",
     "text": [
      "Number of times horizontal, vertical and diagonal vent lines overlap: 19676\n"
     ]
    }
   ],
   "source": [
    "grid,vent_overlap=straight_vents_grid(data)\n",
    "#print(np.transpose(grid))\n",
    "print(\"Number of times horizontal, vertical and diagonal vent lines overlap:\",vent_overlap)"
   ]
  },
  {
   "cell_type": "code",
   "execution_count": null,
   "metadata": {},
   "outputs": [],
   "source": []
  },
  {
   "cell_type": "code",
   "execution_count": null,
   "metadata": {},
   "outputs": [],
   "source": []
  },
  {
   "cell_type": "code",
   "execution_count": null,
   "metadata": {},
   "outputs": [],
   "source": []
  },
  {
   "cell_type": "code",
   "execution_count": null,
   "metadata": {},
   "outputs": [],
   "source": []
  },
  {
   "cell_type": "code",
   "execution_count": null,
   "metadata": {},
   "outputs": [],
   "source": []
  },
  {
   "cell_type": "code",
   "execution_count": null,
   "metadata": {},
   "outputs": [],
   "source": []
  },
  {
   "cell_type": "markdown",
   "metadata": {},
   "source": [
    "###################################################################\n",
    "## Another possible method?\n",
    "Make a list of x axis numbers and y axis numbers that qualify as relevant lines and just count how many times each occur without even making a grid or anything!!!!\n",
    "\n",
    "###################################################################\n"
   ]
  },
  {
   "cell_type": "code",
   "execution_count": 96,
   "metadata": {},
   "outputs": [],
   "source": [
    "def straight_lines_(data):\n",
    "    idx=np.logical_or((data[:,0,0]==data[:,1,0]),(data[:,0,1]==data[:,1,1]))\n",
    "    #data_straight=data[idx,:,:]\n",
    "    data_straight=np.hstack((np.sort(data[idx,:,0]),np.sort(data[idx,:,1]),(data[idx,0,0]==data[idx,1,0]).reshape(idx.sum(),1)))\n",
    "    return data_straight\n",
    "\n",
    "def straight_vents_grid(data):\n",
    "    threshold=2# count will be >= 2 when vent lines overlap\n",
    "    grid=create_grid(data)\n",
    "    str_lines=straight_lines_(data)\n",
    "    for line in str_lines:\n",
    "        if line[-1]==1:\n",
    "            grid[line[0],line[2]:line[3]+1]+=1\n",
    "        else:\n",
    "            grid[line[0]:line[1]+1,line[2]]+=1\n",
    "    #print(np.transpose(grid_))\n",
    "    vent_overlap=np.count_nonzero(grid >= threshold)\n",
    "    return grid,vent_overlap"
   ]
  },
  {
   "cell_type": "code",
   "execution_count": 126,
   "metadata": {
    "jupyter": {
     "outputs_hidden": true
    },
    "scrolled": false,
    "tags": []
   },
   "outputs": [
    {
     "name": "stdout",
     "output_type": "stream",
     "text": [
      "[[0 5 9 9 0]\n",
      " [3 9 4 4 0]\n",
      " [2 2 1 2 0]\n",
      " [7 7 0 4 0]\n",
      " [0 2 9 9 0]\n",
      " [1 3 4 4 0]\n",
      " [8 0 0 8 1]\n",
      " [6 2 4 0 1]\n",
      " [0 8 0 8 1]\n",
      " [5 8 5 2 1]]\n",
      "[[1. 0. 1. 0. 0. 0. 0. 1. 1. 0.]\n",
      " [0. 1. 1. 1. 0. 0. 0. 2. 0. 0.]\n",
      " [0. 0. 2. 0. 1. 0. 1. 1. 1. 0.]\n",
      " [0. 0. 0. 1. 0. 2. 0. 2. 0. 0.]\n",
      " [0. 1. 1. 2. 3. 1. 3. 2. 1. 1.]\n",
      " [0. 0. 0. 1. 0. 2. 0. 0. 0. 0.]\n",
      " [0. 0. 1. 0. 0. 0. 1. 0. 0. 0.]\n",
      " [0. 1. 0. 0. 0. 0. 0. 1. 0. 0.]\n",
      " [1. 0. 0. 0. 0. 0. 0. 0. 1. 0.]\n",
      " [2. 2. 2. 1. 1. 1. 0. 0. 0. 0.]]\n",
      "Number of times horizontal, vertical and diagonal vent lines overlap: 12\n"
     ]
    }
   ],
   "source": [
    "d_=[['0,9', '5,9'],['8,0' ,'0,8'],['9,4' , '3,4'],['2,2' , '2,1'],['7,0' , '7,4'],['6,4', '2,0'],['0,9' ,'2,9'],['3,4' , '1,4'],['0,0' , '8,8'],['5,5' , '8,2']]\n",
    "data_=np.array(func(d_))#........shape->(10,2,2) with format (lines, initial and final, x and y)\n",
    "#print(data_)\n",
    "\n",
    "def create_grid(data):#,idx_lines=0,idx_spread=1,idx_x_or_y=2):\n",
    "    x_lim=np.max(data[:,:,0])+1#-np.min(data[:,:,0])#..................grid will be from 0 to maximum x value (0 and not minimum as the line values are the position on such a grid)\n",
    "    y_lim=np.max(data[:,:,1])+1#-np.min(data[:,:,1])#..................grid will be from 0 to maximum x value\n",
    "    return np.zeros((x_lim,y_lim))\n",
    "\n",
    "def straight_lines_(data):\n",
    "    axial_bool=np.logical_or((data[:,0,0]==data[:,1,0]),(data[:,0,1]==data[:,1,1]))\n",
    "    daig_bool=(np.abs(data[:,0,0]-data[:,1,0])==np.abs(data[:,0,1]-data[:,1,1]))\n",
    "    #idx_axis=np.any((horiz_bool,vert_bool,daig_bool),axis=0)#data_straight=data[idx,:,:]\n",
    "    data_axis=np.hstack((np.sort(data[axial_bool,:,0]),np.sort(data[axial_bool,:,1]),(np.abs(data[axial_bool,0,0]-data[axial_bool,1,0])==np.abs(data[axial_bool,0,1]-data[axial_bool,1,1])).reshape(axial_bool.sum(),1)))\n",
    "    data_diag=np.hstack((data[daig_bool,:,0],data[daig_bool,:,1],(np.abs(data[daig_bool,0,0]-data[daig_bool,1,0])==np.abs(data[daig_bool,0,1]-data[daig_bool,1,1])).reshape(daig_bool.sum(),1)))\n",
    "    data_straight=np.vstack((data_axis,data_diag))\n",
    "    return data_straight\n",
    "\n",
    "def straight_vents_grid(data):\n",
    "    threshold=2# count will be >= 2 when vent lines overlap\n",
    "    grid=create_grid(data)\n",
    "    str_lines=straight_lines_(data)\n",
    "    print(str_lines)\n",
    "    for line in str_lines:\n",
    "        if line[-1]==1:\n",
    "            x=np.linspace(line[0],line[1],np.abs(line[0]-line[1])+1,dtype=int)\n",
    "            y=np.linspace(line[2],line[3],np.abs(line[2]-line[3])+1,dtype=int)\n",
    "            grid[x,y]+=1\n",
    "        else:\n",
    "            grid[line[0]:line[1]+1,line[2]:line[3]+1]+=1\n",
    "    #print(np.transpose(grid_))\n",
    "    vent_overlap=np.count_nonzero(grid >= threshold)\n",
    "    return grid,vent_overlap\n",
    "\n",
    "\n",
    "grid,vent_overlap=straight_vents_grid(data_)\n",
    "print(np.transpose(grid))\n",
    "print(\"Number of times horizontal, vertical and diagonal vent lines overlap:\",vent_overlap)"
   ]
  }
 ],
 "metadata": {
  "kernelspec": {
   "display_name": "Python [conda env:data_science] *",
   "language": "python",
   "name": "conda-env-data_science-py"
  },
  "language_info": {
   "codemirror_mode": {
    "name": "ipython",
    "version": 3
   },
   "file_extension": ".py",
   "mimetype": "text/x-python",
   "name": "python",
   "nbconvert_exporter": "python",
   "pygments_lexer": "ipython3",
   "version": "3.9.7"
  }
 },
 "nbformat": 4,
 "nbformat_minor": 4
}
