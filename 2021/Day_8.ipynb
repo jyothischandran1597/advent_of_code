{
 "cells": [
  {
   "cell_type": "code",
   "execution_count": 1,
   "id": "a94df4c5",
   "metadata": {},
   "outputs": [],
   "source": [
    "import numpy as np\n",
    "import functools"
   ]
  },
  {
   "cell_type": "markdown",
   "id": "032f799c",
   "metadata": {},
   "source": [
    "## Part 1"
   ]
  },
  {
   "cell_type": "code",
   "execution_count": 2,
   "id": "226d2a5d",
   "metadata": {},
   "outputs": [],
   "source": [
    "data=np.genfromtxt(\"DayEight_input.txt\",delimiter='|',dtype=str)"
   ]
  },
  {
   "cell_type": "code",
   "execution_count": 3,
   "id": "4f602423",
   "metadata": {},
   "outputs": [
    {
     "name": "stdout",
     "output_type": "stream",
     "text": [
      "The number of times 1, 4, 7 or 8 occurs in outputs: 390\n"
     ]
    }
   ],
   "source": [
    "def part_one(data):\n",
    "    patterns=[];outputs=[];\n",
    "    for line in data:\n",
    "        patterns.append(line[0].split())\n",
    "        outputs.append(line[1].split())\n",
    "    outputs_flat=[j for i in outputs for j in i]\n",
    "\n",
    "    one_four_seven_eight=sum(1 for i in outputs_flat if len(i) in [2,4,3,7])\n",
    "    return one_four_seven_eight\n",
    "print(\"The number of times 1, 4, 7 or 8 occurs in outputs:\",part_one(data))"
   ]
  },
  {
   "cell_type": "markdown",
   "id": "a860049e",
   "metadata": {},
   "source": [
    "## Part 2"
   ]
  },
  {
   "cell_type": "code",
   "execution_count": 4,
   "id": "109ded6a",
   "metadata": {},
   "outputs": [],
   "source": [
    "def pattern_decode(patterns):\n",
    "    len_5=[];len_6=[]\n",
    "    for pattern in patterns:\n",
    "        l=len(pattern)\n",
    "        pattern_list=[i for i in pattern]\n",
    "        if l==2:\n",
    "            one_=pattern_list\n",
    "        elif l==4:\n",
    "            four_=pattern_list\n",
    "        elif l==5:\n",
    "            len_5.append(pattern_list)\n",
    "        elif l==6:\n",
    "            len_6.append(pattern_list)\n",
    "    for pattern_ in len_5:\n",
    "        if len(set(pattern_).intersection(one_))==2:\n",
    "            three=pattern_\n",
    "        elif len(set(pattern_).intersection(four_))==2:\n",
    "            two=pattern_\n",
    "        else:\n",
    "            five=pattern_\n",
    "    for pattern__ in len_6:\n",
    "        if len(set(pattern__).intersection(four_))==4:\n",
    "            nine=pattern__\n",
    "        elif len(set(pattern__).intersection(one_))==1:\n",
    "            six=pattern__\n",
    "        else:\n",
    "            zero=pattern__\n",
    "    return zero,two,three,five,six,nine"
   ]
  },
  {
   "cell_type": "code",
   "execution_count": 5,
   "id": "76af748f",
   "metadata": {},
   "outputs": [],
   "source": [
    "def read_number(patterns,outputs):\n",
    "    number=[]\n",
    "    zero,two,three,five,six,nine=pattern_decode(patterns)\n",
    "    for x_ in outputs:\n",
    "        x=[i for i in x_]\n",
    "        ln=len(x)\n",
    "        if ln==2:\n",
    "            number.append(1)\n",
    "        elif ln==3:\n",
    "            number.append(7)\n",
    "        elif ln==4:\n",
    "            number.append(4)\n",
    "        elif ln==7:\n",
    "            number.append(8)\n",
    "        elif set(x)==set(zero):\n",
    "            number.append(0)\n",
    "        elif set(x)==set(two):\n",
    "            number.append(2)\n",
    "        elif set(x)==set(three):\n",
    "            number.append(3)\n",
    "        elif set(x)==set(five):\n",
    "            number.append(5)\n",
    "        elif set(x)==set(six):\n",
    "            number.append(6)\n",
    "        elif set(x)==set(nine):\n",
    "            number.append(9)\n",
    "    return functools.reduce(lambda total, add: 10 * total + add, number, 0)#..using Horner's rule"
   ]
  },
  {
   "cell_type": "code",
   "execution_count": 6,
   "id": "3323c9b5",
   "metadata": {},
   "outputs": [],
   "source": [
    "def total_sum(data):\n",
    "    tot_sum=0\n",
    "    for line in data:\n",
    "        patterns=line[0].split()\n",
    "        outputs=line[1].split()\n",
    "        tot_sum+=read_number(patterns,outputs)\n",
    "    return tot_sum"
   ]
  },
  {
   "cell_type": "code",
   "execution_count": 7,
   "id": "71f24dbc",
   "metadata": {},
   "outputs": [
    {
     "name": "stdout",
     "output_type": "stream",
     "text": [
      "The sum of all decoded output values = 1011785\n"
     ]
    }
   ],
   "source": [
    "print(\"The sum of all decoded output values =\",total_sum(data))"
   ]
  },
  {
   "cell_type": "markdown",
   "id": "acb0add0",
   "metadata": {},
   "source": [
    "### Method 1: Identify the letters maping to the segments\n",
    "\n",
    "'ab' -> 1,\n",
    "'dab' -> 7,\n",
    "so 'd' -> top segment, 'a' and 'b' -> (top/bottom)right segments.\n",
    "\n",
    "'eafb' -> 4, 'e' and 'f' has top-left and middle segments\n",
    "\n",
    "top, middle and down segments are common in 2,3 and 5 (len=5), but middle segment is in 4 and top segment is 'd' => 'c' -> down segment, 'f' -> middle segment and 'e' -> top-left segment.\n",
    "\n",
    "bottom-right common for 0,6 and 9 -> 'b'-> bottom-right. So, by exclusion, 'a' -> top-right\n",
    "\n",
    "'a' -> top-right segment, 'b'-> bottom-right segment, 'c' -> down segment, 'd'->top segment, 'e' -> top-left segment, 'f' -> middle segment. So, 'g' -> bottom-left segment.\n",
    "\n",
    "ALSO, criteria to identify 1,4,7 and 8 are their lengths."
   ]
  },
  {
   "cell_type": "markdown",
   "id": "a9485f11",
   "metadata": {},
   "source": [
    "### Method 2: Just figure out patters for each number by comparing common letters\n",
    "Pattern with len=2 is 1.</br>\n",
    "Pattern with len=3 is 7.</br>\n",
    "Pattern with len=4 is 4.</br>\n",
    "Pattern with len=7 is 8.</br>\n",
    "\n",
    "Pattern with len=5 is 2,3 or 5.</br>\n",
    "If two common letters with 1, pattern maps to 3. Can use pop or neted if here.</br>\n",
    "If two common letters with 4, pattern maps to 2.</br>\n",
    "The left over is 5.\n",
    "\n",
    "\n",
    "Pattern with len=6 is 1,6 or 9.</br>\n",
    "If one common letter with 1, pattern maps to 6.</br>\n",
    "If four common letters with 4, pattern maps to 9.</br>\n",
    "The left over is 0."
   ]
  },
  {
   "cell_type": "code",
   "execution_count": null,
   "id": "feebff57",
   "metadata": {},
   "outputs": [],
   "source": [
    "'''\n",
    "data_=[\"be cfbegad cbdgef fgaecd cgeb fdcge agebfd fecdb fabcd edb | fdgacbe cefdb cefbgd gcbe\",\n",
    "   \"edbfga begcd cbg gc gcadebf fbgde acbgfd abcde gfcbed gfec | fcgedb cgb dgebacf gc\",\n",
    "   \"fgaebd cg bdaec gdafb agbcfd gdcbef bgcad gfac gcb cdgabef | cg cg fdcagb cbg\",\n",
    "   \"fbegcd cbd adcefb dageb afcb bc aefdc ecdab fgdeca fcdbega | efabcd cedba gadfec cb\",\n",
    "   \"aecbfdg fbg gf bafeg dbefa fcge gcbea fcaegb dgceab fcbdga | gecf egdcabf bgf bfgea\",\n",
    "   \"fgeab ca afcebg bdacfeg cfaedg gcfdb baec bfadeg bafgc acf | gebdcfa ecba ca fadegcb\",\n",
    "   \"dbcfg fgd bdegcaf fgec aegbdf ecdfab fbedc dacgb gdcebf gf | cefg dcbef fcge gbcadfe\",\n",
    "   \"bdfegc cbegaf gecbf dfcage bdacg ed bedf ced adcbefg gebcd | ed bcgafe cdgba cbgef\",\n",
    "   \"egadfb cdbfeg cegd fecab cgb gbdefca cg fgcdab egfdb bfceg | gbdfcae bgc cg cgb\",\n",
    "   \"gcafb gcf dcaebfg ecagb gf abcdeg gaef cafbge fdbac fegbdc | fgae cfgab fg bagce\"]\n",
    "data=[j.split(\"|\") for j in data_]\n",
    "'''"
   ]
  },
  {
   "cell_type": "code",
   "execution_count": null,
   "id": "8944cee6",
   "metadata": {},
   "outputs": [],
   "source": []
  }
 ],
 "metadata": {
  "kernelspec": {
   "display_name": "Python [conda env:data_science] *",
   "language": "python",
   "name": "conda-env-data_science-py"
  },
  "language_info": {
   "codemirror_mode": {
    "name": "ipython",
    "version": 3
   },
   "file_extension": ".py",
   "mimetype": "text/x-python",
   "name": "python",
   "nbconvert_exporter": "python",
   "pygments_lexer": "ipython3",
   "version": "3.9.7"
  }
 },
 "nbformat": 4,
 "nbformat_minor": 5
}
